{
  "cells": [
    {
      "source": [
        "# IMPORTANT: RUN THIS CELL IN ORDER TO IMPORT YOUR KAGGLE DATA SOURCES,\n",
        "# THEN FEEL FREE TO DELETE THIS CELL.\n",
        "# NOTE: THIS NOTEBOOK ENVIRONMENT DIFFERS FROM KAGGLE'S PYTHON\n",
        "# ENVIRONMENT SO THERE MAY BE MISSING LIBRARIES USED BY YOUR\n",
        "# NOTEBOOK.\n",
        "import kagglehub\n",
        "khushikyad001_covid_19_reinfection_and_health_dataset_path = kagglehub.dataset_download('khushikyad001/covid-19-reinfection-and-health-dataset')\n",
        "\n",
        "print('Data source import complete.')\n"
      ],
      "metadata": {
        "id": "bdNwxAJyhtTJ",
        "outputId": "f7d9e910-c5ef-4d4a-bb90-422b88211399",
        "colab": {
          "base_uri": "https://localhost:8080/"
        }
      },
      "cell_type": "code",
      "outputs": [
        {
          "output_type": "stream",
          "name": "stdout",
          "text": [
            "Data source import complete.\n"
          ]
        }
      ],
      "execution_count": null,
      "id": "bdNwxAJyhtTJ"
    },
    {
      "cell_type": "markdown",
      "id": "a8e67747",
      "metadata": {
        "id": "a8e67747"
      },
      "source": [
        "<img src=\"https://devra.ai/analyst/notebook/2128/image.jpg\" style=\"width: 100%; height: auto;\" />"
      ]
    },
    {
      "cell_type": "markdown",
      "id": "a970f1f1",
      "metadata": {
        "id": "a970f1f1"
      },
      "source": [
        "<div style=\"text-align:center; border-radius:15px; padding:15px; color:white; margin:0; font-family: 'Orbitron', sans-serif; background: #2E0249; background: #11001C; box-shadow: 0px 4px 8px rgba(0, 0, 0, 0.3); overflow:hidden; margin-bottom: 1em;\">    <div style=\"font-size:150%; color:#FEE100\"><b>COVID-19 Reinfection and Health Analysis Notebook</b></div>    <div>This notebook was created with the help of <a href=\"https://devra.ai/ref/kaggle\" style=\"color:#6666FF\">Devra AI</a></div></div>Curiosity drives insight: the intricate interplay between COVID-19 reinfections and various health parameters can reveal surprising patterns. If you find this notebook useful, please consider upvoting it."
      ]
    },
    {
      "cell_type": "markdown",
      "id": "c4affc44",
      "metadata": {
        "id": "c4affc44"
      },
      "source": [
        "# Table of Contents\n",
        "\n",
        "1. [Introduction](#Introduction)\n",
        "2. [Data Loading and Preprocessing](#Data-Loading-and-Preprocessing)\n",
        "3. [Exploratory Data Analysis](#Exploratory-Data-Analysis)\n",
        "4. [Predictive Modeling](#Predictive-Modeling)\n",
        "5. [Conclusion and Future Work](#Conclusion-and-Future-Work)"
      ]
    },
    {
      "cell_type": "code",
      "execution_count": null,
      "id": "0bb2df17",
      "metadata": {
        "id": "0bb2df17",
        "outputId": "bc866310-2981-4fec-9e89-44ec1b977701",
        "colab": {
          "base_uri": "https://localhost:8080/"
        }
      },
      "outputs": [
        {
          "output_type": "stream",
          "name": "stdout",
          "text": [
            "Libraries imported and warnings suppressed.\n"
          ]
        }
      ],
      "source": [
        "\n",
        "import warnings\n",
        "warnings.filterwarnings('ignore')\n",
        "\n",
        "import pandas as pd\n",
        "import numpy as np\n",
        "\n",
        "import matplotlib\n",
        "matplotlib.use('Agg')\n",
        "import matplotlib.pyplot as plt\n",
        "%matplotlib inline\n",
        "\n",
        "import seaborn as sns\n",
        "\n",
        "from datetime import datetime\n",
        "\n",
        "\n",
        "from sklearn.model_selection import train_test_split\n",
        "from sklearn.preprocessing import LabelEncoder, OneHotEncoder\n",
        "from sklearn.linear_model import LogisticRegression\n",
        "from sklearn.metrics import accuracy_score, confusion_matrix, roc_curve, auc\n",
        "from sklearn.compose import ColumnTransformer\n",
        "from sklearn.pipeline import Pipeline\n",
        "\n",
        "print('Libraries imported and warnings suppressed.')"
      ]
    },
    {
      "cell_type": "markdown",
      "id": "471a42ca",
      "metadata": {
        "id": "471a42ca"
      },
      "source": [
        "# Introduction\n",
        "\n",
        "In this notebook, our journey begins with a comprehensive analysis of the COVID-19 reinfection and health dataset. Our goal is to explore correlations between patient characteristics, comorbidities, and outcomes, with an optional predictive model to forecast the likelihood of reinfection based on available features. We incorporate a variety of visualizations, from box plots to heatmaps, to ensure a holistic assessment of the dataset."
      ]
    },
    {
      "cell_type": "markdown",
      "id": "3a338646",
      "metadata": {
        "id": "3a338646"
      },
      "source": [
        "# Data Loading and Preprocessing\n",
        "\n",
        "In this section we load the CSV file and address data cleaning. Some columns containing dates are currently strings, so we'll convert them to datetime where appropriate. If errors arise (for example, due to unexpected date formats), the used methods will log the issues and facilitate debugging."
      ]
    },
    {
      "cell_type": "code",
      "execution_count": null,
      "id": "e710b4f3",
      "metadata": {
        "id": "e710b4f3",
        "outputId": "ca098fea-a5ea-4e1a-d88f-d300a53f0280",
        "colab": {
          "base_uri": "https://localhost:8080/",
          "height": 290
        }
      },
      "outputs": [
        {
          "output_type": "stream",
          "name": "stdout",
          "text": [
            "Data loaded successfully. The dataframe has 3000 rows and 26 columns.\n"
          ]
        },
        {
          "output_type": "execute_result",
          "data": {
            "text/plain": [
              "   Patient_ID  Age  Gender       Region Preexisting_Condition  \\\n",
              "0           1   69    Male  Hovedstaden               Obesity   \n",
              "1           2   38    Male     Sjælland                Asthma   \n",
              "2           3   41  Female   Syddanmark          Hypertension   \n",
              "3           4   81  Female  Hovedstaden                Asthma   \n",
              "4           5   50  Female   Syddanmark        Cardiovascular   \n",
              "\n",
              "  Date_of_Infection COVID_Strain Symptoms  Severity Hospitalized  ...  \\\n",
              "0        2022-06-21        Delta     Mild  Moderate          Yes  ...   \n",
              "1        2024-02-02      XBB.1.5     Mild  Moderate           No  ...   \n",
              "2        2023-05-28         Beta     Mild      High          Yes  ...   \n",
              "3        2023-08-13        Delta   Severe      High           No  ...   \n",
              "4        2023-03-10        Delta     Mild      High           No  ...   \n",
              "\n",
              "  Reinfection Date_of_Reinfection Vaccination_Status Vaccine_Type  \\\n",
              "0          No                 NaN                Yes          NaN   \n",
              "1          No                 NaN                 No          NaN   \n",
              "2          No                 NaN                Yes      Janssen   \n",
              "3         Yes          2024-08-24                Yes  AstraZeneca   \n",
              "4          No                 NaN                Yes          NaN   \n",
              "\n",
              "  Doses_Received Date_of_Last_Dose Long_COVID_Symptoms     Occupation  \\\n",
              "0              1        2022-09-22                 NaN     Healthcare   \n",
              "1              0               NaN                 NaN     Healthcare   \n",
              "2              3        2024-05-14                 NaN     Unemployed   \n",
              "3              1        2024-10-31                 NaN  Office Worker   \n",
              "4              2        2023-07-05                 NaN        Student   \n",
              "\n",
              "  Smoking_Status   BMI  \n",
              "0          Never  27.7  \n",
              "1          Never  21.9  \n",
              "2          Never  22.7  \n",
              "3          Never  27.7  \n",
              "4          Never  11.9  \n",
              "\n",
              "[5 rows x 26 columns]"
            ],
            "text/html": [
              "\n",
              "  <div id=\"df-b9eb0aca-d2e9-4540-8537-e67b85ad251e\" class=\"colab-df-container\">\n",
              "    <div>\n",
              "<style scoped>\n",
              "    .dataframe tbody tr th:only-of-type {\n",
              "        vertical-align: middle;\n",
              "    }\n",
              "\n",
              "    .dataframe tbody tr th {\n",
              "        vertical-align: top;\n",
              "    }\n",
              "\n",
              "    .dataframe thead th {\n",
              "        text-align: right;\n",
              "    }\n",
              "</style>\n",
              "<table border=\"1\" class=\"dataframe\">\n",
              "  <thead>\n",
              "    <tr style=\"text-align: right;\">\n",
              "      <th></th>\n",
              "      <th>Patient_ID</th>\n",
              "      <th>Age</th>\n",
              "      <th>Gender</th>\n",
              "      <th>Region</th>\n",
              "      <th>Preexisting_Condition</th>\n",
              "      <th>Date_of_Infection</th>\n",
              "      <th>COVID_Strain</th>\n",
              "      <th>Symptoms</th>\n",
              "      <th>Severity</th>\n",
              "      <th>Hospitalized</th>\n",
              "      <th>...</th>\n",
              "      <th>Reinfection</th>\n",
              "      <th>Date_of_Reinfection</th>\n",
              "      <th>Vaccination_Status</th>\n",
              "      <th>Vaccine_Type</th>\n",
              "      <th>Doses_Received</th>\n",
              "      <th>Date_of_Last_Dose</th>\n",
              "      <th>Long_COVID_Symptoms</th>\n",
              "      <th>Occupation</th>\n",
              "      <th>Smoking_Status</th>\n",
              "      <th>BMI</th>\n",
              "    </tr>\n",
              "  </thead>\n",
              "  <tbody>\n",
              "    <tr>\n",
              "      <th>0</th>\n",
              "      <td>1</td>\n",
              "      <td>69</td>\n",
              "      <td>Male</td>\n",
              "      <td>Hovedstaden</td>\n",
              "      <td>Obesity</td>\n",
              "      <td>2022-06-21</td>\n",
              "      <td>Delta</td>\n",
              "      <td>Mild</td>\n",
              "      <td>Moderate</td>\n",
              "      <td>Yes</td>\n",
              "      <td>...</td>\n",
              "      <td>No</td>\n",
              "      <td>NaN</td>\n",
              "      <td>Yes</td>\n",
              "      <td>NaN</td>\n",
              "      <td>1</td>\n",
              "      <td>2022-09-22</td>\n",
              "      <td>NaN</td>\n",
              "      <td>Healthcare</td>\n",
              "      <td>Never</td>\n",
              "      <td>27.7</td>\n",
              "    </tr>\n",
              "    <tr>\n",
              "      <th>1</th>\n",
              "      <td>2</td>\n",
              "      <td>38</td>\n",
              "      <td>Male</td>\n",
              "      <td>Sjælland</td>\n",
              "      <td>Asthma</td>\n",
              "      <td>2024-02-02</td>\n",
              "      <td>XBB.1.5</td>\n",
              "      <td>Mild</td>\n",
              "      <td>Moderate</td>\n",
              "      <td>No</td>\n",
              "      <td>...</td>\n",
              "      <td>No</td>\n",
              "      <td>NaN</td>\n",
              "      <td>No</td>\n",
              "      <td>NaN</td>\n",
              "      <td>0</td>\n",
              "      <td>NaN</td>\n",
              "      <td>NaN</td>\n",
              "      <td>Healthcare</td>\n",
              "      <td>Never</td>\n",
              "      <td>21.9</td>\n",
              "    </tr>\n",
              "    <tr>\n",
              "      <th>2</th>\n",
              "      <td>3</td>\n",
              "      <td>41</td>\n",
              "      <td>Female</td>\n",
              "      <td>Syddanmark</td>\n",
              "      <td>Hypertension</td>\n",
              "      <td>2023-05-28</td>\n",
              "      <td>Beta</td>\n",
              "      <td>Mild</td>\n",
              "      <td>High</td>\n",
              "      <td>Yes</td>\n",
              "      <td>...</td>\n",
              "      <td>No</td>\n",
              "      <td>NaN</td>\n",
              "      <td>Yes</td>\n",
              "      <td>Janssen</td>\n",
              "      <td>3</td>\n",
              "      <td>2024-05-14</td>\n",
              "      <td>NaN</td>\n",
              "      <td>Unemployed</td>\n",
              "      <td>Never</td>\n",
              "      <td>22.7</td>\n",
              "    </tr>\n",
              "    <tr>\n",
              "      <th>3</th>\n",
              "      <td>4</td>\n",
              "      <td>81</td>\n",
              "      <td>Female</td>\n",
              "      <td>Hovedstaden</td>\n",
              "      <td>Asthma</td>\n",
              "      <td>2023-08-13</td>\n",
              "      <td>Delta</td>\n",
              "      <td>Severe</td>\n",
              "      <td>High</td>\n",
              "      <td>No</td>\n",
              "      <td>...</td>\n",
              "      <td>Yes</td>\n",
              "      <td>2024-08-24</td>\n",
              "      <td>Yes</td>\n",
              "      <td>AstraZeneca</td>\n",
              "      <td>1</td>\n",
              "      <td>2024-10-31</td>\n",
              "      <td>NaN</td>\n",
              "      <td>Office Worker</td>\n",
              "      <td>Never</td>\n",
              "      <td>27.7</td>\n",
              "    </tr>\n",
              "    <tr>\n",
              "      <th>4</th>\n",
              "      <td>5</td>\n",
              "      <td>50</td>\n",
              "      <td>Female</td>\n",
              "      <td>Syddanmark</td>\n",
              "      <td>Cardiovascular</td>\n",
              "      <td>2023-03-10</td>\n",
              "      <td>Delta</td>\n",
              "      <td>Mild</td>\n",
              "      <td>High</td>\n",
              "      <td>No</td>\n",
              "      <td>...</td>\n",
              "      <td>No</td>\n",
              "      <td>NaN</td>\n",
              "      <td>Yes</td>\n",
              "      <td>NaN</td>\n",
              "      <td>2</td>\n",
              "      <td>2023-07-05</td>\n",
              "      <td>NaN</td>\n",
              "      <td>Student</td>\n",
              "      <td>Never</td>\n",
              "      <td>11.9</td>\n",
              "    </tr>\n",
              "  </tbody>\n",
              "</table>\n",
              "<p>5 rows × 26 columns</p>\n",
              "</div>\n",
              "    <div class=\"colab-df-buttons\">\n",
              "\n",
              "  <div class=\"colab-df-container\">\n",
              "    <button class=\"colab-df-convert\" onclick=\"convertToInteractive('df-b9eb0aca-d2e9-4540-8537-e67b85ad251e')\"\n",
              "            title=\"Convert this dataframe to an interactive table.\"\n",
              "            style=\"display:none;\">\n",
              "\n",
              "  <svg xmlns=\"http://www.w3.org/2000/svg\" height=\"24px\" viewBox=\"0 -960 960 960\">\n",
              "    <path d=\"M120-120v-720h720v720H120Zm60-500h600v-160H180v160Zm220 220h160v-160H400v160Zm0 220h160v-160H400v160ZM180-400h160v-160H180v160Zm440 0h160v-160H620v160ZM180-180h160v-160H180v160Zm440 0h160v-160H620v160Z\"/>\n",
              "  </svg>\n",
              "    </button>\n",
              "\n",
              "  <style>\n",
              "    .colab-df-container {\n",
              "      display:flex;\n",
              "      gap: 12px;\n",
              "    }\n",
              "\n",
              "    .colab-df-convert {\n",
              "      background-color: #E8F0FE;\n",
              "      border: none;\n",
              "      border-radius: 50%;\n",
              "      cursor: pointer;\n",
              "      display: none;\n",
              "      fill: #1967D2;\n",
              "      height: 32px;\n",
              "      padding: 0 0 0 0;\n",
              "      width: 32px;\n",
              "    }\n",
              "\n",
              "    .colab-df-convert:hover {\n",
              "      background-color: #E2EBFA;\n",
              "      box-shadow: 0px 1px 2px rgba(60, 64, 67, 0.3), 0px 1px 3px 1px rgba(60, 64, 67, 0.15);\n",
              "      fill: #174EA6;\n",
              "    }\n",
              "\n",
              "    .colab-df-buttons div {\n",
              "      margin-bottom: 4px;\n",
              "    }\n",
              "\n",
              "    [theme=dark] .colab-df-convert {\n",
              "      background-color: #3B4455;\n",
              "      fill: #D2E3FC;\n",
              "    }\n",
              "\n",
              "    [theme=dark] .colab-df-convert:hover {\n",
              "      background-color: #434B5C;\n",
              "      box-shadow: 0px 1px 3px 1px rgba(0, 0, 0, 0.15);\n",
              "      filter: drop-shadow(0px 1px 2px rgba(0, 0, 0, 0.3));\n",
              "      fill: #FFFFFF;\n",
              "    }\n",
              "  </style>\n",
              "\n",
              "    <script>\n",
              "      const buttonEl =\n",
              "        document.querySelector('#df-b9eb0aca-d2e9-4540-8537-e67b85ad251e button.colab-df-convert');\n",
              "      buttonEl.style.display =\n",
              "        google.colab.kernel.accessAllowed ? 'block' : 'none';\n",
              "\n",
              "      async function convertToInteractive(key) {\n",
              "        const element = document.querySelector('#df-b9eb0aca-d2e9-4540-8537-e67b85ad251e');\n",
              "        const dataTable =\n",
              "          await google.colab.kernel.invokeFunction('convertToInteractive',\n",
              "                                                    [key], {});\n",
              "        if (!dataTable) return;\n",
              "\n",
              "        const docLinkHtml = 'Like what you see? Visit the ' +\n",
              "          '<a target=\"_blank\" href=https://colab.research.google.com/notebooks/data_table.ipynb>data table notebook</a>'\n",
              "          + ' to learn more about interactive tables.';\n",
              "        element.innerHTML = '';\n",
              "        dataTable['output_type'] = 'display_data';\n",
              "        await google.colab.output.renderOutput(dataTable, element);\n",
              "        const docLink = document.createElement('div');\n",
              "        docLink.innerHTML = docLinkHtml;\n",
              "        element.appendChild(docLink);\n",
              "      }\n",
              "    </script>\n",
              "  </div>\n",
              "\n",
              "\n",
              "    <div id=\"df-8d2079a1-a3dd-4382-9531-3989ae636e9d\">\n",
              "      <button class=\"colab-df-quickchart\" onclick=\"quickchart('df-8d2079a1-a3dd-4382-9531-3989ae636e9d')\"\n",
              "                title=\"Suggest charts\"\n",
              "                style=\"display:none;\">\n",
              "\n",
              "<svg xmlns=\"http://www.w3.org/2000/svg\" height=\"24px\"viewBox=\"0 0 24 24\"\n",
              "     width=\"24px\">\n",
              "    <g>\n",
              "        <path d=\"M19 3H5c-1.1 0-2 .9-2 2v14c0 1.1.9 2 2 2h14c1.1 0 2-.9 2-2V5c0-1.1-.9-2-2-2zM9 17H7v-7h2v7zm4 0h-2V7h2v10zm4 0h-2v-4h2v4z\"/>\n",
              "    </g>\n",
              "</svg>\n",
              "      </button>\n",
              "\n",
              "<style>\n",
              "  .colab-df-quickchart {\n",
              "      --bg-color: #E8F0FE;\n",
              "      --fill-color: #1967D2;\n",
              "      --hover-bg-color: #E2EBFA;\n",
              "      --hover-fill-color: #174EA6;\n",
              "      --disabled-fill-color: #AAA;\n",
              "      --disabled-bg-color: #DDD;\n",
              "  }\n",
              "\n",
              "  [theme=dark] .colab-df-quickchart {\n",
              "      --bg-color: #3B4455;\n",
              "      --fill-color: #D2E3FC;\n",
              "      --hover-bg-color: #434B5C;\n",
              "      --hover-fill-color: #FFFFFF;\n",
              "      --disabled-bg-color: #3B4455;\n",
              "      --disabled-fill-color: #666;\n",
              "  }\n",
              "\n",
              "  .colab-df-quickchart {\n",
              "    background-color: var(--bg-color);\n",
              "    border: none;\n",
              "    border-radius: 50%;\n",
              "    cursor: pointer;\n",
              "    display: none;\n",
              "    fill: var(--fill-color);\n",
              "    height: 32px;\n",
              "    padding: 0;\n",
              "    width: 32px;\n",
              "  }\n",
              "\n",
              "  .colab-df-quickchart:hover {\n",
              "    background-color: var(--hover-bg-color);\n",
              "    box-shadow: 0 1px 2px rgba(60, 64, 67, 0.3), 0 1px 3px 1px rgba(60, 64, 67, 0.15);\n",
              "    fill: var(--button-hover-fill-color);\n",
              "  }\n",
              "\n",
              "  .colab-df-quickchart-complete:disabled,\n",
              "  .colab-df-quickchart-complete:disabled:hover {\n",
              "    background-color: var(--disabled-bg-color);\n",
              "    fill: var(--disabled-fill-color);\n",
              "    box-shadow: none;\n",
              "  }\n",
              "\n",
              "  .colab-df-spinner {\n",
              "    border: 2px solid var(--fill-color);\n",
              "    border-color: transparent;\n",
              "    border-bottom-color: var(--fill-color);\n",
              "    animation:\n",
              "      spin 1s steps(1) infinite;\n",
              "  }\n",
              "\n",
              "  @keyframes spin {\n",
              "    0% {\n",
              "      border-color: transparent;\n",
              "      border-bottom-color: var(--fill-color);\n",
              "      border-left-color: var(--fill-color);\n",
              "    }\n",
              "    20% {\n",
              "      border-color: transparent;\n",
              "      border-left-color: var(--fill-color);\n",
              "      border-top-color: var(--fill-color);\n",
              "    }\n",
              "    30% {\n",
              "      border-color: transparent;\n",
              "      border-left-color: var(--fill-color);\n",
              "      border-top-color: var(--fill-color);\n",
              "      border-right-color: var(--fill-color);\n",
              "    }\n",
              "    40% {\n",
              "      border-color: transparent;\n",
              "      border-right-color: var(--fill-color);\n",
              "      border-top-color: var(--fill-color);\n",
              "    }\n",
              "    60% {\n",
              "      border-color: transparent;\n",
              "      border-right-color: var(--fill-color);\n",
              "    }\n",
              "    80% {\n",
              "      border-color: transparent;\n",
              "      border-right-color: var(--fill-color);\n",
              "      border-bottom-color: var(--fill-color);\n",
              "    }\n",
              "    90% {\n",
              "      border-color: transparent;\n",
              "      border-bottom-color: var(--fill-color);\n",
              "    }\n",
              "  }\n",
              "</style>\n",
              "\n",
              "      <script>\n",
              "        async function quickchart(key) {\n",
              "          const quickchartButtonEl =\n",
              "            document.querySelector('#' + key + ' button');\n",
              "          quickchartButtonEl.disabled = true;  // To prevent multiple clicks.\n",
              "          quickchartButtonEl.classList.add('colab-df-spinner');\n",
              "          try {\n",
              "            const charts = await google.colab.kernel.invokeFunction(\n",
              "                'suggestCharts', [key], {});\n",
              "          } catch (error) {\n",
              "            console.error('Error during call to suggestCharts:', error);\n",
              "          }\n",
              "          quickchartButtonEl.classList.remove('colab-df-spinner');\n",
              "          quickchartButtonEl.classList.add('colab-df-quickchart-complete');\n",
              "        }\n",
              "        (() => {\n",
              "          let quickchartButtonEl =\n",
              "            document.querySelector('#df-8d2079a1-a3dd-4382-9531-3989ae636e9d button');\n",
              "          quickchartButtonEl.style.display =\n",
              "            google.colab.kernel.accessAllowed ? 'block' : 'none';\n",
              "        })();\n",
              "      </script>\n",
              "    </div>\n",
              "\n",
              "    </div>\n",
              "  </div>\n"
            ],
            "application/vnd.google.colaboratory.intrinsic+json": {
              "type": "dataframe",
              "variable_name": "df"
            }
          },
          "metadata": {},
          "execution_count": 3
        }
      ],
      "source": [
        "\n",
        "file_path = '/kaggle/input/covid-19-reinfection-and-health-dataset/covid_related_disease_data.csv'\n",
        "try:\n",
        "    df = pd.read_csv(file_path, encoding='utf-8')\n",
        "    print('Data loaded successfully. The dataframe has {} rows and {} columns.'.format(df.shape[0], df.shape[1]))\n",
        "except Exception as e:\n",
        "    print('Error occurred while loading the file:', e)\n",
        "\n",
        "\n",
        "df.head()"
      ]
    },
    {
      "cell_type": "code",
      "execution_count": null,
      "id": "7119a017",
      "metadata": {
        "id": "7119a017",
        "outputId": "546d1f4c-72bf-4499-9cdb-e3d167a072e4",
        "colab": {
          "base_uri": "https://localhost:8080/"
        }
      },
      "outputs": [
        {
          "output_type": "stream",
          "name": "stdout",
          "text": [
            "Missing values in date columns:\n",
            "Date_of_Infection             0\n",
            "Hospital_Admission_Date    2124\n",
            "Hospital_Discharge_Date    2124\n",
            "Date_of_Recovery           1492\n",
            "Date_of_Reinfection        2715\n",
            "Date_of_Last_Dose          1528\n",
            "dtype: int64\n"
          ]
        }
      ],
      "source": [
        "\n",
        "date_columns = ['Date_of_Infection', 'Hospital_Admission_Date', 'Hospital_Discharge_Date',\n",
        "                'Date_of_Recovery', 'Date_of_Reinfection', 'Date_of_Last_Dose']\n",
        "\n",
        "for col in date_columns:\n",
        "    if col in df.columns:\n",
        "        try:\n",
        "            df[col] = pd.to_datetime(df[col], errors='coerce')\n",
        "\n",
        "        except Exception as e:\n",
        "            print(f'Error converting column {col}:', e)\n",
        "\n",
        "\n",
        "missing_date_counts = df[date_columns].isnull().sum()\n",
        "print('Missing values in date columns:')\n",
        "print(missing_date_counts)"
      ]
    },
    {
      "cell_type": "markdown",
      "id": "6e6dd7ae",
      "metadata": {
        "id": "6e6dd7ae"
      },
      "source": [
        "# Exploratory Data Analysis\n",
        "\n",
        "We now perform exploratory data analysis (EDA). This notebook employs several visualization techniques to understand the distribution of variables and uncover relationships within the data."
      ]
    },
    {
      "cell_type": "code",
      "execution_count": null,
      "id": "9c86a586",
      "metadata": {
        "id": "9c86a586",
        "outputId": "0cac99f7-4811-4149-a14e-0ad43c4e8cdf",
        "colab": {
          "base_uri": "https://localhost:8080/",
          "height": 1000
        }
      },
      "outputs": [
        {
          "output_type": "display_data",
          "data": {
            "text/plain": [
              "<Figure size 1000x400 with 2 Axes>"
            ],
            "image/png": "[encoded data removed]"
          },
          "metadata": {}
        },
        {
          "output_type": "display_data",
          "data": {
            "text/plain": [
              "<Figure size 800x500 with 1 Axes>"
            ],
            "image/png": "[encoded data removed]"
          },
          "metadata": {}
        },
        {
          "output_type": "display_data",
          "data": {
            "text/plain": [
              "<Figure size 800x500 with 1 Axes>"
            ],
            "image/png": "[encoded data removed]"
          },
          "metadata": {}
        }
      ],
      "source": [
        "\n",
        "plt.figure(figsize=(10, 4))\n",
        "plt.subplot(1, 2, 1)\n",
        "sns.countplot(data=df, x='Gender', palette='Set2')\n",
        "plt.title('Distribution of Gender')\n",
        "\n",
        "plt.subplot(1, 2, 2)\n",
        "sns.countplot(data=df, x='Reinfection', palette='Set3')\n",
        "plt.title('Distribution of Reinfection')\n",
        "\n",
        "plt.tight_layout()\n",
        "plt.show()\n",
        "\n",
        "\n",
        "plt.figure(figsize=(8, 5))\n",
        "sns.histplot(data=df, x='Age', bins=20, kde=True, color='blue')\n",
        "plt.title('Age Distribution')\n",
        "plt.xlabel('Age')\n",
        "plt.ylabel('Frequency')\n",
        "plt.show()\n",
        "\n",
        "\n",
        "plt.figure(figsize=(8, 5))\n",
        "sns.boxplot(data=df, x='Reinfection', y='BMI', palette='pastel')\n",
        "plt.title('BMI Distribution by Reinfection Status')\n",
        "plt.xlabel('Reinfection')\n",
        "plt.ylabel('BMI')\n",
        "plt.show()"
      ]
    },
    {
      "cell_type": "code",
      "execution_count": null,
      "id": "4fbed283",
      "metadata": {
        "id": "4fbed283",
        "outputId": "ef7815da-2297-4881-f1a3-49ed6d8ff1c5",
        "colab": {
          "base_uri": "https://localhost:8080/",
          "height": 699
        }
      },
      "outputs": [
        {
          "output_type": "display_data",
          "data": {
            "text/plain": [
              "<Figure size 1000x800 with 2 Axes>"
            ],
            "image/png": "[encoded data removed]"
          },
          "metadata": {}
        }
      ],
      "source": [
        "\n",
        "numeric_df = df.select_dtypes(include=[np.number])\n",
        "\n",
        "if numeric_df.shape[1] >= 4:\n",
        "    plt.figure(figsize=(10, 8))\n",
        "    corr = numeric_df.corr()\n",
        "    sns.heatmap(corr, annot=True, cmap='coolwarm', fmt='.2f')\n",
        "    plt.title('Correlation Heatmap for Numeric Variables')\n",
        "    plt.show()\n",
        "else:\n",
        "    print('Not enough numeric columns for a correlation heatmap.')"
      ]
    },
    {
      "cell_type": "code",
      "execution_count": null,
      "id": "a9f305dc",
      "metadata": {
        "id": "a9f305dc"
      },
      "outputs": [],
      "source": [
        "\n",
        "if numeric_df.shape[1] >= 2:\n",
        "    sns.pairplot(numeric_df, diag_kind='hist')\n",
        "    plt.suptitle('Pair Plot for Numeric Variables', y=1.02)\n",
        "    plt.show()\n",
        "else:\n",
        "    print('Not enough numeric variables for a pair plot.')"
      ]
    },
    {
      "cell_type": "markdown",
      "id": "24014004",
      "metadata": {
        "id": "24014004"
      },
      "source": [
        "# Predictive Modeling\n",
        "\n",
        "In this segment, we develop a predictor to forecast whether patients might experience a COVID-19 reinfection. We will use logistic regression to predict the binary outcome in the 'Reinfection' column. The model will be evaluated with accuracy and a confusion matrix. Categorical variables are encoded appropriately for modeling. The code below constructs a pipeline to seamlessly perform preprocessing and classification."
      ]
    },
    {
      "cell_type": "code",
      "execution_count": null,
      "id": "f1e40969",
      "metadata": {
        "id": "f1e40969"
      },
      "outputs": [],
      "source": [
        "\n",
        "model_df = df.copy()\n",
        "\n",
        "model_df = model_df[model_df['Reinfection'].isin(['Yes', 'No'])]\n",
        "\n",
        "le = LabelEncoder()\n",
        "model_df['Reinfection_Label'] = le.fit_transform(model_df['Reinfection'])\n",
        "features = ['Age', 'Gender', 'Preexisting_Condition', 'Vaccination_Status', 'Doses_Received', 'BMI']\n",
        "target = 'Reinfection_Label'\n",
        "\n",
        "model_df = model_df.dropna(subset=features + [target])\n",
        "\n",
        "X = model_df[features]\n",
        "y = model_df[target]\n",
        "\n",
        "X_train, X_test, y_train, y_test = train_test_split(X, y, test_size=0.2, random_state=42)\n",
        "\n",
        "\n",
        "categorical_features = ['Gender', 'Preexisting_Condition', 'Vaccination_Status']\n",
        "numeric_features = ['Age', 'Doses_Received', 'BMI']\n",
        "\n",
        "preprocessor = ColumnTransformer(\n",
        "    transformers=[\n",
        "        ('cat', OneHotEncoder(handle_unknown='ignore'), categorical_features),\n",
        "        ('num', 'passthrough', numeric_features)\n",
        "    ]\n",
        ")\n",
        "\n",
        "pipeline = Pipeline(steps=[\n",
        "    ('preprocessor', preprocessor),\n",
        "    ('classifier', LogisticRegression(max_iter=1000))\n",
        "])\n",
        "\n",
        "pipeline.fit(X_train, y_train)\n",
        "\n",
        "y_pred = pipeline.predict(X_test)\n",
        "\n",
        "accuracy = accuracy_score(y_test, y_pred)\n",
        "print('Accuracy of the Reinfection Predictor:', accuracy)\n",
        "\n",
        "y_probs = pipeline.predict_proba(X_test)[:, 1]\n",
        "fpr, tpr, thresholds = roc_curve(y_test, y_probs)\n",
        "roc_auc = auc(fpr, tpr)\n",
        "\n",
        "plt.figure(figsize=(8, 6))\n",
        "plt.plot(fpr, tpr, label=f'ROC curve (area = {roc_auc:.2f})')\n",
        "plt.plot([0, 1], [0, 1], 'k--')\n",
        "plt.xlabel('False Positive Rate')\n",
        "plt.ylabel('True Positive Rate')\n",
        "plt.title('Receiver Operating Characteristic (ROC) Curve')\n",
        "plt.legend(loc='lower right')\n",
        "plt.show()"
      ]
    },
    {
      "cell_type": "markdown",
      "id": "3fdb8ef1",
      "metadata": {
        "id": "3fdb8ef1"
      },
      "source": [
        "# Conclusion and Future Work\n",
        "\n",
        "Our analysis provided a multi-faceted look at the COVID-19 reinfection dataset. The visual exploration highlighted patterns in demographics, health indicators, and reinfection status. The predictive model, though basic, demonstrates the feasibility of forecasting reinfection likelihood using logistic regression with an acceptable accuracy.\n",
        "\n",
        "Future work could involve trying more sophisticated models, feature engineering, and testing different imputation strategies or regularization techniques. Incorporating temporal trends and external factors might also further elucidate the determinants of COVID-19 reinfection."
      ]
    },
    {
      "cell_type": "markdown",
      "id": "fbef4831",
      "metadata": {
        "id": "fbef4831"
      },
      "source": [
        "If you found this notebook insightful, consider upvoting it. Your feedback motivates further exploration of data-driven insights."
      ]
    }
  ],
  "metadata": {
    "kernelspec": {
      "display_name": "Python 3",
      "language": "python",
      "name": "python3"
    },
    "language_info": {
      "name": "python",
      "version": "3.x"
    },
    "colab": {
      "provenance": []
    }
  },
  "nbformat": 4,
  "nbformat_minor": 5
}